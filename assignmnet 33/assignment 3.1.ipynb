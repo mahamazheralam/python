{
 "cells": [
  {
   "cell_type": "code",
   "execution_count": 2,
   "id": "e0fd86d2",
   "metadata": {},
   "outputs": [
    {
     "name": "stdout",
     "output_type": "stream",
     "text": [
      "Input your First Name : maham\n",
      "Input your Last Name : azher\n",
      "azher maham\n"
     ]
    }
   ],
   "source": [
    "f_name = input(\"Input your First Name : \")\n",
    "l_name = input(\"Input your Last Name : \")\n",
    "print (l_name + \" \" + f_name)"
   ]
  },
  {
   "cell_type": "code",
   "execution_count": 6,
   "id": "6d6d005d",
   "metadata": {},
   "outputs": [
    {
     "name": "stdout",
     "output_type": "stream",
     "text": [
      " enter_your_namemaham\n",
      " enter_your_age22\n",
      "maham 22\n"
     ]
    }
   ],
   "source": [
    "your_name = input(\" enter_your_name\");\n",
    "your_age = int(input(\" enter_your_age\"));\n",
    "print(your_name, your_age)"
   ]
  },
  {
   "cell_type": "code",
   "execution_count": null,
   "id": "cbaf6360",
   "metadata": {},
   "outputs": [],
   "source": []
  }
 ],
 "metadata": {
  "kernelspec": {
   "display_name": "Python 3",
   "language": "python",
   "name": "python3"
  },
  "language_info": {
   "codemirror_mode": {
    "name": "ipython",
    "version": 3
   },
   "file_extension": ".py",
   "mimetype": "text/x-python",
   "name": "python",
   "nbconvert_exporter": "python",
   "pygments_lexer": "ipython3",
   "version": "3.8.8"
  }
 },
 "nbformat": 4,
 "nbformat_minor": 5
}
